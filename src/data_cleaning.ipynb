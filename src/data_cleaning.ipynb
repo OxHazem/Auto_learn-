{
 "cells": [
  {
   "cell_type": "code",
   "execution_count": null,
   "metadata": {},
   "outputs": [
    {
     "name": "stderr",
     "output_type": "stream",
     "text": [
      "d:\\DownLoad\\projects\\Auto_learn\\venv\\Lib\\site-packages\\tqdm\\auto.py:21: TqdmWarning: IProgress not found. Please update jupyter and ipywidgets. See https://ipywidgets.readthedocs.io/en/stable/user_install.html\n",
      "  from .autonotebook import tqdm as notebook_tqdm\n"
     ]
    },
    {
     "data": {
      "text/html": [
       "\n",
       "            <div>\n",
       "                <ins><a href=\"ttps://ydata.ai/register\">Upgrade to ydata-sdk</a></ins>\n",
       "                <p>\n",
       "                    Improve your data and profiling with ydata-sdk, featuring data quality scoring, redundancy detection, outlier identification, text validation, and synthetic data generation.\n",
       "                </p>\n",
       "            </div>\n",
       "            "
      ],
      "text/plain": [
       "<IPython.core.display.HTML object>"
      ]
     },
     "metadata": {},
     "output_type": "display_data"
    }
   ],
   "source": [
    "import pandas as pd\n",
    "from ydata_profiling import ProfileReport"
   ]
  },
  {
   "cell_type": "code",
   "execution_count": 8,
   "metadata": {},
   "outputs": [
    {
     "name": "stderr",
     "output_type": "stream",
     "text": [
      "<>:1: SyntaxWarning: invalid escape sequence '\\D'\n",
      "<>:1: SyntaxWarning: invalid escape sequence '\\D'\n",
      "C:\\Users\\Omar\\AppData\\Local\\Temp\\ipykernel_31724\\3417947657.py:1: SyntaxWarning: invalid escape sequence '\\D'\n",
      "  path=\"D:\\DownLoad\\projects\\Auto_learn\\data\\Project_Phase1.csv\" # Enter the Path of the CSV file\n",
      "Summarize dataset: 100%|██████████| 616/616 [00:46<00:00, 13.19it/s, Completed]                                                                             \n",
      "Generate report structure: 100%|██████████| 1/1 [00:06<00:00,  6.23s/it]\n",
      "Render HTML: 100%|██████████| 1/1 [00:09<00:00,  9.66s/it]\n",
      "Export report to file: 100%|██████████| 1/1 [00:00<00:00,  7.40it/s]\n"
     ]
    }
   ],
   "source": [
    "path=\"D:\\DownLoad\\projects\\Auto_learn\\data\\Project_Phase1.csv\" # Enter the Path of the CSV file \n",
    "data=pd.read_csv(path)\n",
    "df= pd.DataFrame(data) \n",
    "file=ProfileReport(df,title=\"data_Report\")\n",
    "file.to_file(\"data_profile.html\")\n"
   ]
  }
 ],
 "metadata": {
  "kernelspec": {
   "display_name": "venv",
   "language": "python",
   "name": "python3"
  },
  "language_info": {
   "codemirror_mode": {
    "name": "ipython",
    "version": 3
   },
   "file_extension": ".py",
   "mimetype": "text/x-python",
   "name": "python",
   "nbconvert_exporter": "python",
   "pygments_lexer": "ipython3",
   "version": "3.12.7"
  }
 },
 "nbformat": 4,
 "nbformat_minor": 2
}
